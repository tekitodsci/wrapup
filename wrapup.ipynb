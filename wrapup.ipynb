{
 "cells": [
  {
   "cell_type": "markdown",
   "id": "attractive-villa",
   "metadata": {},
   "source": [
    "# 朝日新聞　要約APIを試してみるスクリプト"
   ]
  },
  {
   "cell_type": "markdown",
   "id": "pending-basic",
   "metadata": {},
   "source": [
    "参考リンク：　https://cl.asahi.com/api_data/longsum.html"
   ]
  },
  {
   "cell_type": "code",
   "execution_count": null,
   "id": "religious-insertion",
   "metadata": {},
   "outputs": [],
   "source": [
    "import AsahiToken\n",
    "import requests\n",
    "import json\n",
    "\n",
    "url = 'https://clapi.asahi.com/abstract'\n",
    "as_token = AsahiToken.ACCESS_TOKEN\n",
    "\n",
    "sample_text = open('sample.txt', 'r', encoding='UTF-8')\n",
    "sample_text = sample_text.read()\n",
    "\n",
    "headers = {\n",
    "    'accept': 'application/json',\n",
    "    'Content-Type': 'application/json',   \n",
    "    'x-api-key': as_token,\n",
    "}\n",
    "\n",
    "data = {'text': sample_text, 'rate':0.5,'auto_paragraph':'false'}\n",
    "data = json.dumps(data)\n",
    "\n",
    "response = requests.post(url, headers=headers, data=data.encode('utf-8'))\n",
    "response.json()"
   ]
  }
 ],
 "metadata": {
  "kernelspec": {
   "display_name": "Python 3",
   "language": "python",
   "name": "python3"
  },
  "language_info": {
   "codemirror_mode": {
    "name": "ipython",
    "version": 3
   },
   "file_extension": ".py",
   "mimetype": "text/x-python",
   "name": "python",
   "nbconvert_exporter": "python",
   "pygments_lexer": "ipython3",
   "version": "3.9.2"
  }
 },
 "nbformat": 4,
 "nbformat_minor": 5
}
